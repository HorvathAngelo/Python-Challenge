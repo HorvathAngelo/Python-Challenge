{
 "cells": [
  {
   "cell_type": "code",
   "execution_count": 1,
   "id": "cd60fdbd",
   "metadata": {},
   "outputs": [
    {
     "name": "stdout",
     "output_type": "stream",
     "text": [
      "Financial Analysis\n",
      "-------------------------\n",
      "Total Months: 86\n",
      "Total: $22564198\n",
      "Average Change: $-8311.11\n",
      "Greatest Increase in Profits: Aug-16 ($1862002)\n",
      "Greatest Decrease in Profits: Feb-14 ($-1825558)\n",
      "Analysis has been exported to financial_analysis.txt\n"
     ]
    }
   ],
   "source": [
    "import os\n",
    "import csv\n",
    "\n",
    "# Set the file path\n",
    "file_path = r\"C:\\Users\\Horva\\Downloads\\Starter_Code (5)\\Starter_Code\\PyBank\\Resources\\budget_data.csv\"\n",
    "\n",
    "# Initialize variables\n",
    "total_months = 0\n",
    "total_profit_loss = 0\n",
    "profit_loss_changes = []\n",
    "dates = []\n",
    "\n",
    "# Read the CSV file\n",
    "with open(file_path, newline=\"\") as file:\n",
    "    csv_reader = csv.reader(file, delimiter=\",\")\n",
    "\n",
    "    # Skip the header row\n",
    "    header = next(csv_reader)\n",
    "\n",
    "    # Iterate through each row in the CSV file\n",
    "    for row in csv_reader:\n",
    "        # Extract the date and profit/losses from the row\n",
    "        date = row[0]\n",
    "        profit_loss = int(row[1])\n",
    "\n",
    "        # Track the total number of months\n",
    "        total_months += 1\n",
    "\n",
    "        # Calculate the total profit/losses\n",
    "        total_profit_loss += profit_loss\n",
    "\n",
    "        # Track the changes in profit/losses\n",
    "        if total_months > 1:\n",
    "            profit_loss_changes.append(profit_loss - previous_profit_loss)\n",
    "            dates.append(date)\n",
    "\n",
    "        previous_profit_loss = profit_loss\n",
    "\n",
    "    # Calculate the average change in profit/losses\n",
    "    average_change = sum(profit_loss_changes) / len(profit_loss_changes)\n",
    "\n",
    "    # Find the greatest increase and decrease in profit/losses\n",
    "    greatest_increase = max(profit_loss_changes)\n",
    "    greatest_decrease = min(profit_loss_changes)\n",
    "\n",
    "    # Find the corresponding dates for the greatest increase and decrease\n",
    "    greatest_increase_date = dates[profit_loss_changes.index(greatest_increase)]\n",
    "    greatest_decrease_date = dates[profit_loss_changes.index(greatest_decrease)]\n",
    "\n",
    "# Print the analysis to the terminal\n",
    "print(\"Financial Analysis\")\n",
    "print(\"-------------------------\")\n",
    "print(f\"Total Months: {total_months}\")\n",
    "print(f\"Total: ${total_profit_loss}\")\n",
    "print(f\"Average Change: ${average_change:.2f}\")\n",
    "print(f\"Greatest Increase in Profits: {greatest_increase_date} (${greatest_increase})\")\n",
    "print(f\"Greatest Decrease in Profits: {greatest_decrease_date} (${greatest_decrease})\")\n",
    "\n",
    "# Export the analysis to a text file\n",
    "output_file = \"financial_analysis.txt\"\n",
    "with open(output_file, \"w\") as file:\n",
    "    file.write(\"Financial Analysis\\n\")\n",
    "    file.write(\"-------------------------\\n\")\n",
    "    file.write(f\"Total Months: {total_months}\\n\")\n",
    "    file.write(f\"Total: ${total_profit_loss}\\n\")\n",
    "    file.write(f\"Average Change: ${average_change:.2f}\\n\")\n",
    "    file.write(f\"Greatest Increase in Profits: {greatest_increase_date} (${greatest_increase})\\n\")\n",
    "    file.write(f\"Greatest Decrease in Profits: {greatest_decrease_date} (${greatest_decrease})\\n\")\n",
    "\n",
    "print(\"Analysis has been exported to financial_analysis.txt\")\n"
   ]
  },
  {
   "cell_type": "code",
   "execution_count": null,
   "id": "0cedb034",
   "metadata": {},
   "outputs": [],
   "source": []
  }
 ],
 "metadata": {
  "kernelspec": {
   "display_name": "Python 3 (ipykernel)",
   "language": "python",
   "name": "python3"
  },
  "language_info": {
   "codemirror_mode": {
    "name": "ipython",
    "version": 3
   },
   "file_extension": ".py",
   "mimetype": "text/x-python",
   "name": "python",
   "nbconvert_exporter": "python",
   "pygments_lexer": "ipython3",
   "version": "3.10.9"
  }
 },
 "nbformat": 4,
 "nbformat_minor": 5
}
